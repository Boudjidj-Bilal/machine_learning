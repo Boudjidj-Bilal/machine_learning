{
 "cells": [
  {
   "cell_type": "code",
   "execution_count": 33,
   "metadata": {},
   "outputs": [],
   "source": [
    "import numpy as np\n",
    "from tensorflow import keras #bibliotèque d'intelligence atificielle de google\n",
    "from tensorflow.keras import optimizers\n",
    "from tensorflow.keras.models import Sequential\n",
    "from tensorflow.keras.layers import Dense \n",
    "\n"
   ]
  },
  {
   "attachments": {},
   "cell_type": "markdown",
   "metadata": {},
   "source": [
    "# partie A les données:"
   ]
  },
  {
   "cell_type": "code",
   "execution_count": 34,
   "metadata": {},
   "outputs": [],
   "source": [
    "\n",
    "\n",
    "from tensorflow.keras.datasets import mnist\n",
    "from tensorflow.keras.utils import to_categorical\n"
   ]
  },
  {
   "attachments": {},
   "cell_type": "markdown",
   "metadata": {},
   "source": [
    "## télécharger des données:"
   ]
  },
  {
   "cell_type": "code",
   "execution_count": 35,
   "metadata": {},
   "outputs": [],
   "source": [
    "(X_train_data,Y_train_data),(X_test_data,Y_test_data) = mnist.load_data()"
   ]
  },
  {
   "cell_type": "code",
   "execution_count": 36,
   "metadata": {},
   "outputs": [
    {
     "data": {
      "text/plain": [
       "(60000, 28, 28)"
      ]
     },
     "execution_count": 36,
     "metadata": {},
     "output_type": "execute_result"
    }
   ],
   "source": [
    "X_train_data.shape # renvoie 60 000 image de chiffre entre 0 et 9, une image est de 28 sur 28\n"
   ]
  },
  {
   "cell_type": "code",
   "execution_count": 37,
   "metadata": {},
   "outputs": [],
   "source": [
    "N = X_train_data.shape[0]  # N = 60 000 données"
   ]
  },
  {
   "attachments": {},
   "cell_type": "markdown",
   "metadata": {},
   "source": [
    "## données d'appretissage X"
   ]
  },
  {
   "cell_type": "code",
   "execution_count": 38,
   "metadata": {},
   "outputs": [],
   "source": [
    "X_train = np.reshape(X_train_data,(N,784)) # vecteur image, reforme les images 28 sur 28 en une seule ligne\n"
   ]
  },
  {
   "cell_type": "code",
   "execution_count": 39,
   "metadata": {},
   "outputs": [
    {
     "data": {
      "text/plain": [
       "(60000, 784)"
      ]
     },
     "execution_count": 39,
     "metadata": {},
     "output_type": "execute_result"
    }
   ],
   "source": [
    "X_train.shape # reforme les images en une seule ligne (vecteur) de 784 pixel car une image est de 28sur28 et 28x28=784"
   ]
  },
  {
   "cell_type": "code",
   "execution_count": 40,
   "metadata": {},
   "outputs": [],
   "source": [
    "# divise le vecteur X_train par 255 est ré-affecte le a X_train pour normaliser et mettre le vecteur dans un intervalle \n",
    "# entre 0 et 1 au lieu de 0 à 255\n",
    "X_train = X_train/255 # normalisation"
   ]
  },
  {
   "attachments": {},
   "cell_type": "markdown",
   "metadata": {},
   "source": [
    "## données d'apprentissage Y vers une liste de taille 10"
   ]
  },
  {
   "cell_type": "code",
   "execution_count": 41,
   "metadata": {},
   "outputs": [],
   "source": [
    "Y_train = to_categorical(Y_train_data, num_classes=10)"
   ]
  },
  {
   "attachments": {},
   "cell_type": "markdown",
   "metadata": {},
   "source": [
    "## Données de test"
   ]
  },
  {
   "cell_type": "code",
   "execution_count": 43,
   "metadata": {},
   "outputs": [],
   "source": [
    "X_test = np.reshape(X_test_data,(X_test_data.shape[0],784))\n",
    "X_test = X_test/255\n",
    "Y_test = to_categorical(Y_test_data, num_classes=10)"
   ]
  },
  {
   "attachments": {},
   "cell_type": "markdown",
   "metadata": {},
   "source": [
    "# partie B - Le réseau de neurones "
   ]
  },
  {
   "cell_type": "code",
   "execution_count": 44,
   "metadata": {},
   "outputs": [],
   "source": [
    "p = 8\n",
    "modele = Sequential()"
   ]
  },
  {
   "attachments": {},
   "cell_type": "markdown",
   "metadata": {},
   "source": [
    "### première couche de neurones "
   ]
  },
  {
   "cell_type": "code",
   "execution_count": 45,
   "metadata": {},
   "outputs": [],
   "source": [
    "modele.add(Dense(p, input_dim=784, activation = 'sigmoid'))"
   ]
  },
  {
   "attachments": {},
   "cell_type": "markdown",
   "metadata": {},
   "source": [
    "### deuxième couche de neurones "
   ]
  },
  {
   "cell_type": "code",
   "execution_count": 46,
   "metadata": {},
   "outputs": [],
   "source": [
    "modele.add(Dense(p, activation = 'sigmoid'))"
   ]
  },
  {
   "attachments": {},
   "cell_type": "markdown",
   "metadata": {},
   "source": [
    "### couche de sortie : 10 neurones (un par chiffre)"
   ]
  },
  {
   "cell_type": "code",
   "execution_count": 47,
   "metadata": {},
   "outputs": [],
   "source": [
    "modele.add(Dense(10, activation = 'softmax'))"
   ]
  },
  {
   "attachments": {},
   "cell_type": "markdown",
   "metadata": {},
   "source": [
    "### choix de la methode de descente de gradient"
   ]
  },
  {
   "cell_type": "code",
   "execution_count": 48,
   "metadata": {},
   "outputs": [],
   "source": [
    "modele.compile(loss='categorical_crossentropy',\n",
    "                optimizer='sgd',\n",
    "                metrics=['accuracy'])\n",
    "\n",
    "print (modele.summary())"
   ]
  },
  {
   "attachments": {},
   "cell_type": "markdown",
   "metadata": {},
   "source": [
    "# partie C - calcul des poids par descente de gradient "
   ]
  },
  {
   "cell_type": "code",
   "execution_count": 49,
   "metadata": {},
   "outputs": [
    {
     "name": "stdout",
     "output_type": "stream",
     "text": [
      "Epoch 1/40\n",
      "1875/1875 [==============================] - 6s 2ms/step - loss: 2.2650 - accuracy: 0.2139\n",
      "Epoch 2/40\n",
      "1875/1875 [==============================] - 4s 2ms/step - loss: 2.1344 - accuracy: 0.3969\n",
      "Epoch 3/40\n",
      "1875/1875 [==============================] - 5s 3ms/step - loss: 1.9123 - accuracy: 0.4548\n",
      "Epoch 4/40\n",
      "1875/1875 [==============================] - 4s 2ms/step - loss: 1.6817 - accuracy: 0.4831\n",
      "Epoch 5/40\n",
      "1875/1875 [==============================] - 4s 2ms/step - loss: 1.4875 - accuracy: 0.5508\n",
      "Epoch 6/40\n",
      "1875/1875 [==============================] - 4s 2ms/step - loss: 1.3250 - accuracy: 0.6127\n",
      "Epoch 7/40\n",
      "1875/1875 [==============================] - 4s 2ms/step - loss: 1.1910 - accuracy: 0.6571\n",
      "Epoch 8/40\n",
      "1875/1875 [==============================] - 4s 2ms/step - loss: 1.0817 - accuracy: 0.6809\n",
      "Epoch 9/40\n",
      "1875/1875 [==============================] - 4s 2ms/step - loss: 0.9927 - accuracy: 0.7022\n",
      "Epoch 10/40\n",
      "1875/1875 [==============================] - 4s 2ms/step - loss: 0.9202 - accuracy: 0.7191\n",
      "Epoch 11/40\n",
      "1875/1875 [==============================] - 4s 2ms/step - loss: 0.8607 - accuracy: 0.7355\n",
      "Epoch 12/40\n",
      "1875/1875 [==============================] - 4s 2ms/step - loss: 0.8107 - accuracy: 0.7535\n",
      "Epoch 13/40\n",
      "1875/1875 [==============================] - 4s 2ms/step - loss: 0.7679 - accuracy: 0.7703\n",
      "Epoch 14/40\n",
      "1875/1875 [==============================] - 4s 2ms/step - loss: 0.7308 - accuracy: 0.7866\n",
      "Epoch 15/40\n",
      "1875/1875 [==============================] - 4s 2ms/step - loss: 0.6984 - accuracy: 0.7987\n",
      "Epoch 16/40\n",
      "1875/1875 [==============================] - 4s 2ms/step - loss: 0.6699 - accuracy: 0.8096\n",
      "Epoch 17/40\n",
      "1875/1875 [==============================] - 4s 2ms/step - loss: 0.6450 - accuracy: 0.8185\n",
      "Epoch 18/40\n",
      "1875/1875 [==============================] - 4s 2ms/step - loss: 0.6228 - accuracy: 0.8258\n",
      "Epoch 19/40\n",
      "1875/1875 [==============================] - 4s 2ms/step - loss: 0.6028 - accuracy: 0.8323\n",
      "Epoch 20/40\n",
      "1875/1875 [==============================] - 4s 2ms/step - loss: 0.5846 - accuracy: 0.8383\n",
      "Epoch 21/40\n",
      "1875/1875 [==============================] - 4s 2ms/step - loss: 0.5680 - accuracy: 0.8438\n",
      "Epoch 22/40\n",
      "1875/1875 [==============================] - 4s 2ms/step - loss: 0.5521 - accuracy: 0.8489\n",
      "Epoch 23/40\n",
      "1875/1875 [==============================] - 4s 2ms/step - loss: 0.5371 - accuracy: 0.8551\n",
      "Epoch 24/40\n",
      "1875/1875 [==============================] - 8s 4ms/step - loss: 0.5224 - accuracy: 0.8606\n",
      "Epoch 25/40\n",
      "1875/1875 [==============================] - 6s 3ms/step - loss: 0.5088 - accuracy: 0.8654\n",
      "Epoch 26/40\n",
      "1875/1875 [==============================] - 6s 3ms/step - loss: 0.4958 - accuracy: 0.8691\n",
      "Epoch 27/40\n",
      "1875/1875 [==============================] - 5s 2ms/step - loss: 0.4837 - accuracy: 0.8724\n",
      "Epoch 28/40\n",
      "1875/1875 [==============================] - 5s 2ms/step - loss: 0.4722 - accuracy: 0.8752\n",
      "Epoch 29/40\n",
      "1875/1875 [==============================] - 5s 3ms/step - loss: 0.4614 - accuracy: 0.8775\n",
      "Epoch 30/40\n",
      "1875/1875 [==============================] - 5s 2ms/step - loss: 0.4512 - accuracy: 0.8807\n",
      "Epoch 31/40\n",
      "1875/1875 [==============================] - 4s 2ms/step - loss: 0.4412 - accuracy: 0.8838\n",
      "Epoch 32/40\n",
      "1875/1875 [==============================] - 5s 2ms/step - loss: 0.4317 - accuracy: 0.8860\n",
      "Epoch 33/40\n",
      "1875/1875 [==============================] - 5s 3ms/step - loss: 0.4226 - accuracy: 0.8885\n",
      "Epoch 34/40\n",
      "1875/1875 [==============================] - 4s 2ms/step - loss: 0.4138 - accuracy: 0.8901\n",
      "Epoch 35/40\n",
      "1875/1875 [==============================] - 4s 2ms/step - loss: 0.4054 - accuracy: 0.8926\n",
      "Epoch 36/40\n",
      "1875/1875 [==============================] - 4s 2ms/step - loss: 0.3973 - accuracy: 0.8947\n",
      "Epoch 37/40\n",
      "1875/1875 [==============================] - 4s 2ms/step - loss: 0.3898 - accuracy: 0.8972\n",
      "Epoch 38/40\n",
      "1875/1875 [==============================] - 4s 2ms/step - loss: 0.3825 - accuracy: 0.8990\n",
      "Epoch 39/40\n",
      "1875/1875 [==============================] - 4s 2ms/step - loss: 0.3758 - accuracy: 0.9002\n",
      "Epoch 40/40\n",
      "1875/1875 [==============================] - 4s 2ms/step - loss: 0.3694 - accuracy: 0.9019\n"
     ]
    },
    {
     "data": {
      "text/plain": [
       "<keras.callbacks.History at 0x1d93b06a380>"
      ]
     },
     "execution_count": 49,
     "metadata": {},
     "output_type": "execute_result"
    }
   ],
   "source": [
    "modele.fit(X_train, Y_train, batch_size=32, epochs=40)"
   ]
  },
  {
   "attachments": {},
   "cell_type": "markdown",
   "metadata": {},
   "source": [
    "# partie D - resultats"
   ]
  },
  {
   "cell_type": "code",
   "execution_count": 50,
   "metadata": {},
   "outputs": [],
   "source": [
    "resultat = modele.evaluate(X_test, Y_test, verbose=0)"
   ]
  },
  {
   "cell_type": "code",
   "execution_count": 51,
   "metadata": {},
   "outputs": [
    {
     "name": "stdout",
     "output_type": "stream",
     "text": [
      "valeur de lerreur sur les données de test (loss): 0.36474213004112244\n"
     ]
    }
   ],
   "source": [
    "print('valeur de l''erreur sur les données de test (loss):', resultat[0])"
   ]
  },
  {
   "cell_type": "code",
   "execution_count": 52,
   "metadata": {},
   "outputs": [
    {
     "name": "stdout",
     "output_type": "stream",
     "text": [
      "Précision sur les données de test (accuracy): 0.9027000069618225\n"
     ]
    }
   ],
   "source": [
    "print('Précision sur les données de test (accuracy):', resultat[1])"
   ]
  }
 ],
 "metadata": {
  "kernelspec": {
   "display_name": "venvTraitementImage",
   "language": "python",
   "name": "python3"
  },
  "language_info": {
   "codemirror_mode": {
    "name": "ipython",
    "version": 3
   },
   "file_extension": ".py",
   "mimetype": "text/x-python",
   "name": "python",
   "nbconvert_exporter": "python",
   "pygments_lexer": "ipython3",
   "version": "3.10.8 (tags/v3.10.8:aaaf517, Oct 11 2022, 16:50:30) [MSC v.1933 64 bit (AMD64)]"
  },
  "orig_nbformat": 4,
  "vscode": {
   "interpreter": {
    "hash": "c18699ae9e25b6e8229ae990714caa3e388d214f6e5be80cce0c47c222d93f63"
   }
  }
 },
 "nbformat": 4,
 "nbformat_minor": 2
}
